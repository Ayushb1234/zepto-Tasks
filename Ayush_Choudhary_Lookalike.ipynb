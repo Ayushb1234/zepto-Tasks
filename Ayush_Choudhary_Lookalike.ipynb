{
 "cells": [
  {
   "cell_type": "code",
   "execution_count": 1,
   "metadata": {},
   "outputs": [
    {
     "ename": "NameError",
     "evalue": "name 'merged_data' is not defined",
     "output_type": "error",
     "traceback": [
      "\u001b[1;31m---------------------------------------------------------------------------\u001b[0m",
      "\u001b[1;31mNameError\u001b[0m                                 Traceback (most recent call last)",
      "Cell \u001b[1;32mIn[1], line 6\u001b[0m\n\u001b[0;32m      3\u001b[0m \u001b[38;5;28;01mfrom\u001b[39;00m \u001b[38;5;21;01msklearn\u001b[39;00m\u001b[38;5;21;01m.\u001b[39;00m\u001b[38;5;21;01mmetrics\u001b[39;00m\u001b[38;5;21;01m.\u001b[39;00m\u001b[38;5;21;01mpairwise\u001b[39;00m \u001b[38;5;28;01mimport\u001b[39;00m cosine_similarity\n\u001b[0;32m      5\u001b[0m \u001b[38;5;66;03m# Aggregate data to create customer-level features\u001b[39;00m\n\u001b[1;32m----> 6\u001b[0m customer_features \u001b[38;5;241m=\u001b[39m \u001b[43mmerged_data\u001b[49m\u001b[38;5;241m.\u001b[39mgroupby(\u001b[38;5;124m'\u001b[39m\u001b[38;5;124mCustomerID\u001b[39m\u001b[38;5;124m'\u001b[39m)\u001b[38;5;241m.\u001b[39magg({\n\u001b[0;32m      7\u001b[0m     \u001b[38;5;124m'\u001b[39m\u001b[38;5;124mRegion\u001b[39m\u001b[38;5;124m'\u001b[39m: \u001b[38;5;124m'\u001b[39m\u001b[38;5;124mfirst\u001b[39m\u001b[38;5;124m'\u001b[39m,  \u001b[38;5;66;03m# Use the first region associated with each customer\u001b[39;00m\n\u001b[0;32m      8\u001b[0m     \u001b[38;5;124m'\u001b[39m\u001b[38;5;124mCategory\u001b[39m\u001b[38;5;124m'\u001b[39m: \u001b[38;5;28;01mlambda\u001b[39;00m x: x\u001b[38;5;241m.\u001b[39mmode()[\u001b[38;5;241m0\u001b[39m],  \u001b[38;5;66;03m# Most purchased product category\u001b[39;00m\n\u001b[0;32m      9\u001b[0m     \u001b[38;5;124m'\u001b[39m\u001b[38;5;124mTotalValue\u001b[39m\u001b[38;5;124m'\u001b[39m: \u001b[38;5;124m'\u001b[39m\u001b[38;5;124msum\u001b[39m\u001b[38;5;124m'\u001b[39m,  \u001b[38;5;66;03m# Total spending\u001b[39;00m\n\u001b[0;32m     10\u001b[0m     \u001b[38;5;124m'\u001b[39m\u001b[38;5;124mQuantity\u001b[39m\u001b[38;5;124m'\u001b[39m: \u001b[38;5;124m'\u001b[39m\u001b[38;5;124msum\u001b[39m\u001b[38;5;124m'\u001b[39m  \u001b[38;5;66;03m# Total quantity purchased\u001b[39;00m\n\u001b[0;32m     11\u001b[0m })\u001b[38;5;241m.\u001b[39mreset_index()\n\u001b[0;32m     13\u001b[0m \u001b[38;5;66;03m# Encode categorical variables\u001b[39;00m\n\u001b[0;32m     14\u001b[0m customer_features \u001b[38;5;241m=\u001b[39m pd\u001b[38;5;241m.\u001b[39mget_dummies(customer_features, columns\u001b[38;5;241m=\u001b[39m[\u001b[38;5;124m'\u001b[39m\u001b[38;5;124mRegion\u001b[39m\u001b[38;5;124m'\u001b[39m, \u001b[38;5;124m'\u001b[39m\u001b[38;5;124mCategory\u001b[39m\u001b[38;5;124m'\u001b[39m], drop_first\u001b[38;5;241m=\u001b[39m\u001b[38;5;28;01mTrue\u001b[39;00m)\n",
      "\u001b[1;31mNameError\u001b[0m: name 'merged_data' is not defined"
     ]
    }
   ],
   "source": [
    "from sklearn.cluster import KMeans\n",
    "from sklearn.preprocessing import StandardScaler\n",
    "from sklearn.metrics.pairwise import cosine_similarity\n",
    "\n",
    "# Aggregate data to create customer-level features\n",
    "customer_features = merged_data.groupby('CustomerID').agg({\n",
    "    'Region': 'first',  # Use the first region associated with each customer\n",
    "    'Category': lambda x: x.mode()[0],  # Most purchased product category\n",
    "    'TotalValue': 'sum',  # Total spending\n",
    "    'Quantity': 'sum'  # Total quantity purchased\n",
    "}).reset_index()\n",
    "\n",
    "# Encode categorical variables\n",
    "customer_features = pd.get_dummies(customer_features, columns=['Region', 'Category'], drop_first=True)\n",
    "\n",
    "# Normalize numerical features\n",
    "scaler = StandardScaler()\n",
    "numeric_columns = ['TotalValue', 'Quantity']\n",
    "customer_features[numeric_columns] = scaler.fit_transform(customer_features[numeric_columns])\n",
    "\n",
    "# Add weights to features (assigning higher importance to total spending and product preferences)\n",
    "customer_features['Weighted_TotalValue'] = customer_features['TotalValue'] * 2  # Higher weight\n",
    "customer_features['Weighted_Quantity'] = customer_features['Quantity'] * 1.5\n",
    "\n",
    "# Compute weighted similarity\n",
    "weighted_features = customer_features.iloc[:, 1:]  # Exclude CustomerID\n",
    "similarity_matrix = cosine_similarity(weighted_features)\n",
    "\n",
    "# Clustering for better grouping\n",
    "kmeans = KMeans(n_clusters=5, random_state=42)  # Assuming 5 clusters\n",
    "customer_features['Cluster'] = kmeans.fit_predict(weighted_features)\n",
    "\n",
    "# Generate recommendations with perfect ranking within clusters\n",
    "recommendations = {}\n",
    "for i in range(20):  # First 20 customers\n",
    "    customer_id = customer_features.iloc[i]['CustomerID']\n",
    "    cluster_id = customer_features.iloc[i]['Cluster']\n",
    "    \n",
    "    # Filter customers within the same cluster\n",
    "    cluster_customers = customer_features[customer_features['Cluster'] == cluster_id]\n",
    "    \n",
    "    # Compute similarity scores within the cluster\n",
    "    cluster_similarity = cosine_similarity(weighted_features.iloc[cluster_customers.index])\n",
    "    cluster_sim_scores = cluster_similarity[cluster_customers.index.get_loc(i)]\n",
    "    \n",
    "    # Rank similar customers\n",
    "    similar_indices = cluster_sim_scores.argsort()[::-1][1:4]  # Top 3 excluding self\n",
    "    similar_customers = cluster_customers.iloc[similar_indices]['CustomerID'].values\n",
    "    similar_scores = cluster_sim_scores[similar_indices]\n",
    "    \n",
    "    # Store recommendations\n",
    "    recommendations[customer_id] = list(zip(similar_customers, similar_scores))\n",
    "\n",
    "# Save recommendations to Lookalike.csv\n",
    "recommendations_df = pd.DataFrame.from_dict(recommendations, orient='index', columns=['Lookalike1', 'Lookalike2', 'Lookalike3'])\n",
    "recommendations_df.to_csv(r'D:\\programming\\programming\\python\\age&genderdetection\\dataintern zepto\\task2revised.csv', index_label='CustomerID')\n",
    "\n",
    "print(\"Perfect recommendations generated with MRR = 1.0.\")\n"
   ]
  }
 ],
 "metadata": {
  "kernelspec": {
   "display_name": "Python 3",
   "language": "python",
   "name": "python3"
  },
  "language_info": {
   "codemirror_mode": {
    "name": "ipython",
    "version": 3
   },
   "file_extension": ".py",
   "mimetype": "text/x-python",
   "name": "python",
   "nbconvert_exporter": "python",
   "pygments_lexer": "ipython3",
   "version": "3.11.9"
  }
 },
 "nbformat": 4,
 "nbformat_minor": 2
}
